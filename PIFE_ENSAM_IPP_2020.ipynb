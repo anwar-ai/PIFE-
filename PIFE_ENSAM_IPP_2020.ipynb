{
  "nbformat": 4,
  "nbformat_minor": 0,
  "metadata": {
    "colab": {
      "name": "PIFE-IPP.ipynb",
      "provenance": [],
      "private_outputs": true,
      "collapsed_sections": [],
      "authorship_tag": "ABX9TyOw6DDixFDu5/4/Nbj38hPt",
      "include_colab_link": true
    },
    "kernelspec": {
      "name": "python3",
      "display_name": "Python 3"
    },
    "accelerator": "GPU"
  },
  "cells": [
    {
      "cell_type": "markdown",
      "metadata": {
        "id": "view-in-github",
        "colab_type": "text"
      },
      "source": [
        "<a href=\"https://colab.research.google.com/github/anwar-ai/PIFE-/blob/master/PIFE_ENSAM_IPP_2020.ipynb\" target=\"_parent\"><img src=\"https://colab.research.google.com/assets/colab-badge.svg\" alt=\"Open In Colab\"/></a>"
      ]
    },
    {
      "cell_type": "markdown",
      "metadata": {
        "id": "SiAXrX4QSmJl",
        "colab_type": "text"
      },
      "source": [
        "![Texte alternatif…](https://cdn-03.9rayti.com/rsrc/cache/widen_750/uploads/2011/05/ENSAM-Meknes-Journ%C3%A9e-%C2%ABPortes-ouvertes-%C2%BB-2011.jpg)\n",
        "# **Automatisation des procédés CND par l'intelligence artificielle**\n",
        "  Les rayons X et gamma en contrôle non destructif sont utilisés pour réaliser des radiographies afin de caractériser l'état d'intérgrité des structures et des matériaux sans les dégrader, la radiographie est utilsé notament pour les soudures dans les centrales nucléaires, dans le secteur pétrolier, pour la corrosion des tuyaux ou les fissures des pièces mécaniques. \n",
        "Dans industrie automobile l'inspection des pièces se fait avec échantionnage et d'une manière unitaire, ce qui affecte le temps de production et le taux de qualité (main d'oeuvre qualifié). Le but de cette étude est d'utiliser l'appretissage supervisé profond (Deep Learning) pour la détéction automatique des retassures à lintérieur des jantes automobile fabriquées en AlSi moulé.\n",
        "\n",
        "\n",
        "Anwar Aachati\n",
        "anwar.aachati@altran.com"
      ]
    },
    {
      "cell_type": "code",
      "metadata": {
        "id": "jumpHBe522QD",
        "colab_type": "code",
        "colab": {}
      },
      "source": [
        "import numpy as np\n",
        "import matplotlib.pyplot as plt\n",
        "import keras\n",
        "import cv2\n",
        "import os\n",
        "from PIL import Image\n",
        "from keras.utils.np_utils import to_categorical \n",
        "from keras.models import Sequential"
      ],
      "execution_count": null,
      "outputs": []
    },
    {
      "cell_type": "code",
      "metadata": {
        "id": "mWdAJNLx59OI",
        "colab_type": "code",
        "colab": {}
      },
      "source": [
        "!ls"
      ],
      "execution_count": null,
      "outputs": []
    },
    {
      "cell_type": "code",
      "metadata": {
        "id": "qEDzdUqrt-Ck",
        "colab_type": "code",
        "colab": {}
      },
      "source": [
        "!git clone https://github.com/anwar-ai/PIFE-.git"
      ],
      "execution_count": null,
      "outputs": []
    },
    {
      "cell_type": "code",
      "metadata": {
        "id": "czfV3SyMuRzH",
        "colab_type": "code",
        "colab": {}
      },
      "source": [
        "!ls"
      ],
      "execution_count": null,
      "outputs": []
    },
    {
      "cell_type": "code",
      "metadata": {
        "id": "GonsYISJuWoe",
        "colab_type": "code",
        "colab": {}
      },
      "source": [
        "x=[]\n",
        "l=[i for i in os.listdir(\"PIFE-/img\")]\n",
        "l.sort()\n",
        "for img in l: \n",
        "  image=cv2.imread(\"PIFE-/img/\"+img,0)\n",
        "  image=cv2.resize(image,(512,512), interpolation = cv2.INTER_AREA)\n",
        "  x.append(image)\n",
        "x_train=np.array(x).reshape(44,512,512,1) \n",
        "  "
      ],
      "execution_count": null,
      "outputs": []
    },
    {
      "cell_type": "code",
      "metadata": {
        "id": "f943Td0L5sIM",
        "colab_type": "code",
        "colab": {}
      },
      "source": [
        "plt.figure(figsize=(17,9))\n",
        "plt.imshow(x_train[1,:,:,0],cmap=\"gray\")\n",
        "plt.show()"
      ],
      "execution_count": null,
      "outputs": []
    },
    {
      "cell_type": "code",
      "metadata": {
        "id": "Z6dapqsUyhwc",
        "colab_type": "code",
        "colab": {}
      },
      "source": [
        "len(x),x_train.shape"
      ],
      "execution_count": null,
      "outputs": []
    },
    {
      "cell_type": "code",
      "metadata": {
        "id": "tGBXo_--76Jv",
        "colab_type": "code",
        "colab": {}
      },
      "source": [
        "y=[]\n",
        "k=[i for i in os.listdir(\"PIFE-/mask\")]\n",
        "k.sort()\n",
        "for img in k: \n",
        "  image=cv2.imread(\"PIFE-/mask/\"+img,0)\n",
        "  image=cv2.resize(image,(512,512), interpolation = cv2.INTER_AREA)\n",
        "  y.append(image)\n",
        "mask=np.array(y).reshape(44,512,512,1) \n",
        "plt.figure(figsize=(17,9))\n",
        "plt.imshow(mask[1,:,:,0],cmap=\"gray\")\n",
        "plt.show()"
      ],
      "execution_count": null,
      "outputs": []
    },
    {
      "cell_type": "code",
      "metadata": {
        "id": "kWSU4AeP87IV",
        "colab_type": "code",
        "colab": {}
      },
      "source": [
        "len(y),mask.shape\n"
      ],
      "execution_count": null,
      "outputs": []
    },
    {
      "cell_type": "code",
      "metadata": {
        "id": "_iF1Et2OxwkU",
        "colab_type": "code",
        "colab": {}
      },
      "source": [
        "import tensorflow as tf\n",
        "\n",
        "mask=mask.astype('float32')\n",
        "tf.config.experimental_run_functions_eagerly(True)\n"
      ],
      "execution_count": null,
      "outputs": []
    },
    {
      "cell_type": "code",
      "metadata": {
        "id": "LOyuZoZA9NVc",
        "colab_type": "code",
        "colab": {}
      },
      "source": [
        "lignes = 512\n",
        "colonnes = 512"
      ],
      "execution_count": null,
      "outputs": []
    },
    {
      "cell_type": "code",
      "metadata": {
        "id": "P-R_zE059QTM",
        "colab_type": "code",
        "colab": {}
      },
      "source": [
        "from tensorflow.keras.models import Model\n",
        "from tensorflow.keras.layers import Input, Conv2D, MaxPooling2D, UpSampling2D, Lambda, Conv2DTranspose, concatenate\n",
        "from tensorflow.keras.optimizers import Adam\n",
        "from tensorflow.keras.callbacks import ModelCheckpoint, LearningRateScheduler\n",
        "from tensorflow.keras import backend as K\n",
        "from scipy.ndimage.measurements import label\n",
        "import time"
      ],
      "execution_count": null,
      "outputs": []
    },
    {
      "cell_type": "markdown",
      "metadata": {
        "id": "x8TAKVNibTRa",
        "colab_type": "text"
      },
      "source": [
        "## **U-net convolutional neural network** \n",
        "![Texte alternatif…](https://miro.medium.com/max/2824/1*f7YOaE4TWubwaFF7Z1fzNw.png)\n",
        "U-Net est une architecture  appelée «réseau entièrement convolutionnel» ,développé pour la segmentation d'images biomédicales au département d'informatique de l'université de Fribourg en Allemagne."
      ]
    },
    {
      "cell_type": "code",
      "metadata": {
        "id": "9KJ6gEcV9S1S",
        "colab_type": "code",
        "colab": {}
      },
      "source": [
        "def unet():\n",
        "    inputs = Input((lignes, colonnes, 1))\n",
        "    inputs_norm = Lambda(lambda x: x/127.5 - 1.)\n",
        "    conv1 = Conv2D(16, (3, 3), activation='relu', padding='same')(inputs)\n",
        "    conv1 = Conv2D(16, (3, 3), activation='relu', padding='same')(conv1)\n",
        "    pool1 = MaxPooling2D(pool_size=(2, 2))(conv1)\n",
        "\n",
        "    conv2 = Conv2D(32, (3, 3), activation='relu', padding='same')(pool1)\n",
        "    conv2 = Conv2D(32, (3, 3), activation='relu', padding='same')(conv2)\n",
        "    pool2 = MaxPooling2D(pool_size=(2, 2))(conv2)\n",
        "\n",
        "    conv3 = Conv2D(64, (3, 3), activation='relu', padding='same')(pool2)\n",
        "    conv3 = Conv2D(64, (3, 3), activation='relu', padding='same')(conv3)\n",
        "    pool3 = MaxPooling2D(pool_size=(2, 2))(conv3)\n",
        "\n",
        "    conv4 = Conv2D(128, (3, 3), activation='relu', padding='same')(pool3)\n",
        "    conv4 = Conv2D(128, (3, 3), activation='relu', padding='same')(conv4)\n",
        "    pool4 = MaxPooling2D(pool_size=(2, 2))(conv4)\n",
        "\n",
        "    conv5 = Conv2D(256, (3, 3), activation='relu', padding='same')(pool4)\n",
        "    conv5 = Conv2D(256, (3, 3), activation='relu', padding='same')(conv5)\n",
        "\n",
        "    up6 = concatenate([Conv2DTranspose(64, kernel_size=(\n",
        "        2, 2), strides=(2, 2), padding='same')(conv5), conv4], axis=3)\n",
        "    conv6 = Conv2D(128, (3, 3), activation='relu', padding='same')(up6)\n",
        "    conv6 = Conv2D(128, (3, 3), activation='relu', padding='same')(conv6)\n",
        "\n",
        "    up7 = concatenate([Conv2DTranspose(32, kernel_size=(\n",
        "        2, 2), strides=(2, 2), padding='same')(conv6), conv3], axis=3)\n",
        "    conv7 = Conv2D(64, (3, 3), activation='relu', padding='same')(up7)\n",
        "    conv7 = Conv2D(64, (3, 3), activation='relu', padding='same')(conv7)\n",
        "\n",
        "    up8 = concatenate([Conv2DTranspose(16, kernel_size=(\n",
        "        2, 2), strides=(2, 2), padding='same')(conv7), conv2], axis=3)\n",
        "    conv8 = Conv2D(32, (3, 3), activation='relu', padding='same')(up8)\n",
        "    conv8 = Conv2D(32, (3, 3), activation='relu', padding='same')(conv8)\n",
        "\n",
        "    up9 = concatenate([Conv2DTranspose(8, kernel_size=(\n",
        "        2, 2), strides=(2, 2), padding='same')(conv8), conv1], axis=3)\n",
        "    conv9 = Conv2D(16, (3, 3), activation='relu', padding='same')(up9)\n",
        "    conv9 = Conv2D(16, (3, 3), activation='relu', padding='same')(conv9)\n",
        "\n",
        "    conv10 = Conv2D(1, (1, 1), activation='sigmoid')(conv9)\n",
        "\n",
        "    model = Model(inputs=inputs, outputs=conv10)\n",
        "\n",
        "    return model"
      ],
      "execution_count": null,
      "outputs": []
    },
    {
      "cell_type": "code",
      "metadata": {
        "id": "48KmS4F69YhU",
        "colab_type": "code",
        "colab": {}
      },
      "source": [
        "model = unet()"
      ],
      "execution_count": null,
      "outputs": []
    },
    {
      "cell_type": "markdown",
      "metadata": {
        "id": "swTYpQoKdZxC",
        "colab_type": "text"
      },
      "source": [
        "# **Intersection over union \"IoU\"**\n",
        "![Texte alternatif…](http://media5.datahacker.rs/2018/11/IoU.png)\n",
        "\n",
        "\n",
        "c'est un indice de performace qui donne une idée sur la précision du modèle"
      ]
    },
    {
      "cell_type": "code",
      "metadata": {
        "id": "WmNiMo2hEuPC",
        "colab_type": "code",
        "colab": {}
      },
      "source": [
        "def smooth_dice_coeff(smooth=1.):\n",
        "\n",
        "    smooth = float(smooth)\n",
        "\n",
        "    def IOU_calc(y_true, y_pred):\n",
        "            y_true_f = K.flatten(y_true)\n",
        "            y_pred_f = K.flatten(y_pred)\n",
        "            intersection = K.sum(y_true_f * y_pred_f)\n",
        "\n",
        "            return (intersection + smooth) / (K.sum(y_true_f) + K.sum(y_pred_f) + smooth)\n",
        "\n",
        "    def IOU_calc_loss(y_true, y_pred):\n",
        "        return -IOU_calc(y_true, y_pred)\n",
        "    return IOU_calc, IOU_calc_loss\n",
        "\n",
        "IOU_calc, IOU_calc_loss = smooth_dice_coeff(0.00001)"
      ],
      "execution_count": null,
      "outputs": []
    },
    {
      "cell_type": "code",
      "metadata": {
        "id": "hr428gVuExeg",
        "colab_type": "code",
        "colab": {}
      },
      "source": [
        "model.compile(optimizer=Adam(lr=1e-4), loss=IOU_calc_loss, metrics=[IOU_calc])"
      ],
      "execution_count": null,
      "outputs": []
    },
    {
      "cell_type": "code",
      "metadata": {
        "id": "bzDg_DdjEyBI",
        "colab_type": "code",
        "colab": {}
      },
      "source": [
        "history = model.fit(x_train, mask, batch_size=10, epochs=200, verbose=1,shuffle=True)"
      ],
      "execution_count": null,
      "outputs": []
    },
    {
      "cell_type": "code",
      "metadata": {
        "id": "X9GG_z6YE0Hw",
        "colab_type": "code",
        "colab": {}
      },
      "source": [
        "plt.figure(figsize=(6, 5))\n",
        "plt.plot(model.history.history['loss'], label='Train loss')\n",
        "\n",
        "plt.xlabel('Epochs')\n",
        "plt.ylabel('Erreur')\n",
        "plt.legend()"
      ],
      "execution_count": null,
      "outputs": []
    },
    {
      "cell_type": "code",
      "metadata": {
        "id": "5krF4422E2Bg",
        "colab_type": "code",
        "colab": {}
      },
      "source": [
        "plt.figure(figsize=(6, 5))\n",
        "plt.plot(model.history.history['IOU_calc'], label='Train IOU')\n",
        "\n",
        "plt.xlabel('Epochs')\n",
        "plt.ylabel('IOU')\n",
        "plt.legend()"
      ],
      "execution_count": null,
      "outputs": []
    },
    {
      "cell_type": "code",
      "metadata": {
        "id": "Vp0obpWOJEnE",
        "colab_type": "code",
        "colab": {}
      },
      "source": [
        "x_test=x_train[:,:,:,:]\n",
        "predict = model.predict(x_test)\n",
        "x_test.shape"
      ],
      "execution_count": null,
      "outputs": []
    },
    {
      "cell_type": "code",
      "metadata": {
        "id": "7QZSiJN7JOxo",
        "colab_type": "code",
        "colab": {}
      },
      "source": [
        "import cv2\n",
        "\n",
        "\n",
        "def predict_evaluation(pred, image, label):\n",
        "    '''\n",
        "    '''\n",
        "    # transformer  l'image grise en rgb\n",
        "    img = np.array(image, np.uint8)\n",
        "    rgb_img = cv2.cvtColor(img, cv2.COLOR_GRAY2RGB)\n",
        "    # standariser l'image to 0~255\n",
        "    im_label = np.array(255*label, dtype=np.uint8)\n",
        "    im_pred = np.array(255*pred, dtype=np.uint8)\n",
        "\n",
        "    # transformer tout en  rgb\n",
        "    rgb_label = cv2.cvtColor(im_label, cv2.COLOR_GRAY2RGB)\n",
        "    rgb_pred = cv2.cvtColor(im_pred, cv2.COLOR_GRAY2RGB)\n",
        "\n",
        "  \n",
        "    rgb_label[:, :, 0] = 0*rgb_label[:, :, 0]\n",
        "    rgb_label[:, :, 1] = 0*rgb_label[:, :, 1]\n",
        "    rgb_pred[:, :, 1] = 0*rgb_pred[:, :, 1]\n",
        "    rgb_pred[:, :, 2] = 0*rgb_pred[:, :, 2]\n",
        "\n",
        "    img_pred = cv2.addWeighted(rgb_img, 1, rgb_pred, 1, 0)\n",
        "    img_label = cv2.addWeighted(rgb_img, 1, rgb_label, 1, 0)\n",
        "\n",
        "# le resizing\n",
        "    rgb_img=cv2.resize(rgb_img,(1080,900), interpolation = cv2.INTER_AREA)\n",
        "    img_pred=cv2.resize(img_pred,(1080,900), interpolation = cv2.INTER_AREA)\n",
        "    img_label=cv2.resize(img_label,(1080,900), interpolation = cv2.INTER_AREA)\n",
        "    plt.figure(figsize=(10, 10))\n",
        " \n",
        "#show_pyplot\n",
        "    plt.figure(figsize=(20,12))\n",
        "    plt.subplot(1, 3, 1)\n",
        "    plt.imshow(rgb_img)\n",
        "    plt.title('Image Originale ')\n",
        "    plt.axis('off')\n",
        "    plt.subplot(1, 3, 2)\n",
        "    plt.imshow(img_pred)\n",
        "    plt.title('Prédiction')\n",
        "    plt.axis('off')\n",
        "    plt.subplot(1, 3, 3)\n",
        "    plt.imshow(img_label)\n",
        "    plt.title('Realité')\n",
        "    plt.axis('off')"
      ],
      "execution_count": null,
      "outputs": []
    },
    {
      "cell_type": "code",
      "metadata": {
        "id": "H336-MiDJQg0",
        "colab_type": "code",
        "colab": {}
      },
      "source": [
        "predict_evaluation(predict[0,:,:,0], x_test[0,:,:,0], mask[0,:,:,0])"
      ],
      "execution_count": null,
      "outputs": []
    },
    {
      "cell_type": "code",
      "metadata": {
        "id": "hIU6raTz_5Ms",
        "colab_type": "code",
        "colab": {}
      },
      "source": [
        "predict_evaluation(predict[9,:,:,0], x_test[9,:,:,0], mask[9,:,:,0])"
      ],
      "execution_count": null,
      "outputs": []
    },
    {
      "cell_type": "code",
      "metadata": {
        "id": "LnrBiTNYs_4t",
        "colab_type": "code",
        "colab": {}
      },
      "source": [
        "predict_evaluation(predict[12,:,:,0], x_test[12,:,:,0], mask[12,:,:,0])"
      ],
      "execution_count": null,
      "outputs": []
    },
    {
      "cell_type": "code",
      "metadata": {
        "id": "CA5Thb9LWkgU",
        "colab_type": "code",
        "colab": {}
      },
      "source": [
        "predict_evaluation(predict[22,:,:,0], x_test[22,:,:,0], mask[22,:,:,0])"
      ],
      "execution_count": null,
      "outputs": []
    },
    {
      "cell_type": "code",
      "metadata": {
        "id": "jr6V2A_bWk9G",
        "colab_type": "code",
        "colab": {}
      },
      "source": [
        "predict_evaluation(predict[36,:,:,0], x_test[36,:,:,0], mask[36,:,:,0])"
      ],
      "execution_count": null,
      "outputs": []
    },
    {
      "cell_type": "code",
      "metadata": {
        "id": "2s0ZyTY_Wk1c",
        "colab_type": "code",
        "colab": {}
      },
      "source": [
        "predict_evaluation(predict[11,:,:,0], x_test[11,:,:,0], mask[11,:,:,0])"
      ],
      "execution_count": null,
      "outputs": []
    },
    {
      "cell_type": "markdown",
      "metadata": {
        "id": "_fnZ1oCSDXcL",
        "colab_type": "text"
      },
      "source": [
        "\n",
        "\n",
        "# **Construction des Bounding boxes \"Bboxes\"**\n",
        "\n",
        "\n",
        "\n",
        "\n",
        "\n",
        "\n"
      ]
    },
    {
      "cell_type": "code",
      "metadata": {
        "id": "kvpVxAir00_9",
        "colab_type": "code",
        "colab": {}
      },
      "source": [
        "from google.colab.patches import cv2_imshow"
      ],
      "execution_count": null,
      "outputs": []
    },
    {
      "cell_type": "code",
      "metadata": {
        "id": "__LbRVQ0RjPU",
        "colab_type": "code",
        "colab": {}
      },
      "source": [
        "def seuil (y):\n",
        "  p=y\n",
        "  for i in range (y.shape[0]):\n",
        "    for j in range (y.shape[1]):\n",
        "      if p[i][j]<100:\n",
        "         p[i][j]=0\n",
        "         \n",
        "       \n",
        "  return (p)"
      ],
      "execution_count": null,
      "outputs": []
    },
    {
      "cell_type": "code",
      "metadata": {
        "id": "zJE9Wwi_wwW9",
        "colab_type": "code",
        "colab": {}
      },
      "source": [
        "def bbox(g):\n",
        "    row=[]\n",
        "    col=[] \n",
        "    for i in range (0,511):\n",
        "        for j in range (0,511):\n",
        "            if g[i][j]!=0:\n",
        "                row.append(i)\n",
        "                col.append(j)                \n",
        "    xmax=max(row)\n",
        "    xmin=min(row)\n",
        "    ymax=max(col)\n",
        "    ymin=min(col) \n",
        "    return((ymin,xmin),(ymax,xmax))"
      ],
      "execution_count": null,
      "outputs": []
    },
    {
      "cell_type": "code",
      "metadata": {
        "id": "yhNdrAt1wx-Y",
        "colab_type": "code",
        "colab": {}
      },
      "source": [
        "def Draw_bbox(img,ori):\n",
        "    img=seuil(img*255)\n",
        "    window_name = 'bbx'\n",
        "    start_point = bbox(img)[0] \n",
        "    end_point =bbox(img)[1] \n",
        "    color = (255, 0, 255) \n",
        "    thickness = 1\n",
        "    image = cv2.putText(ori, 'Retassure', start_point, cv2.FONT_HERSHEY_SIMPLEX ,  \n",
        "                   0.45, color, 1, cv2.LINE_AA) \n",
        "    image = cv2.rectangle(ori, start_point, end_point, color, thickness) \n",
        "    cv2_imshow( image) \n",
        "    cv2.waitKey(0)\n",
        "    cv2.destroyAllWindows()\n",
        "   "
      ],
      "execution_count": null,
      "outputs": []
    },
    {
      "cell_type": "code",
      "metadata": {
        "id": "H7X-FWYPTG0f",
        "colab_type": "code",
        "colab": {}
      },
      "source": [
        "Draw_bbox(predict[1,:,:,0],x_test[1,:,:,0])"
      ],
      "execution_count": null,
      "outputs": []
    },
    {
      "cell_type": "code",
      "metadata": {
        "id": "12j2_YitTGup",
        "colab_type": "code",
        "colab": {}
      },
      "source": [
        "Draw_bbox(predict[38,:,:,0],x_test[38,:,:,0])"
      ],
      "execution_count": null,
      "outputs": []
    },
    {
      "cell_type": "code",
      "metadata": {
        "id": "vB2jhUnZTGma",
        "colab_type": "code",
        "colab": {}
      },
      "source": [
        "Draw_bbox(predict[11,:,:,0],x_test[11,:,:,0])"
      ],
      "execution_count": null,
      "outputs": []
    },
    {
      "cell_type": "code",
      "metadata": {
        "id": "ac4y2-OUTGeq",
        "colab_type": "code",
        "colab": {}
      },
      "source": [
        "Draw_bbox(predict[23,:,:,0],x_test[23,:,:,0])"
      ],
      "execution_count": null,
      "outputs": []
    },
    {
      "cell_type": "code",
      "metadata": {
        "id": "4pZmAKocw4ld",
        "colab_type": "code",
        "colab": {}
      },
      "source": [
        "Draw_bbox(predict[3,:,:,0],x_test[3,:,:,0])"
      ],
      "execution_count": null,
      "outputs": []
    }
  ]
}